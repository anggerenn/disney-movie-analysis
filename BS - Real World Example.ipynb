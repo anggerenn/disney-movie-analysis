{
 "cells": [
  {
   "source": [
    "## Load necessary libraries "
   ],
   "cell_type": "markdown",
   "metadata": {}
  },
  {
   "cell_type": "code",
   "execution_count": 11,
   "metadata": {},
   "outputs": [],
   "source": [
    "import requests\n",
    "from bs4 import BeautifulSoup as bs\n",
    "import pandas as pd"
   ]
  },
  {
   "source": [
    "## Load the page\n",
    "\n",
    "Task 1: Scrape the infobox from Toy Story 3 wiki page (save in python dictionary)"
   ],
   "cell_type": "markdown",
   "metadata": {}
  },
  {
   "cell_type": "code",
   "execution_count": 86,
   "metadata": {
    "tags": []
   },
   "outputs": [],
   "source": [
    "r = requests.get('https://en.wikipedia.org/wiki/Toy_Story_3')\n",
    "soup = bs(r.content)"
   ]
  },
  {
   "cell_type": "code",
   "execution_count": 85,
   "metadata": {},
   "outputs": [],
   "source": [
    "# # Grab infobox\n",
    "# infobox = soup.select('table.infobox.vevent tbody')[0]\n",
    "# credit = infobox.find('tr').findNext()\n",
    "# credit\n",
    "# # left = (i.find_all('th', attrs={'scope':'row'}) for i in infobox)\n",
    "# # left_text = [l.string for l in left]\n",
    "\n",
    "# # right = infobox.find_all('td')\n",
    "# # right"
   ]
  },
  {
   "source": [
    "### Solution 2"
   ],
   "cell_type": "markdown",
   "metadata": {}
  },
  {
   "cell_type": "code",
   "execution_count": 87,
   "metadata": {},
   "outputs": [
    {
     "output_type": "stream",
     "name": "stdout",
     "text": [
      "<tr>\n <th class=\"summary\" colspan=\"2\" style=\"text-align:center;font-size:125%;font-weight:bold;font-size:110%;font-style:italic;\">\n  Toy Story 3\n </th>\n</tr>\n\n<tr>\n <td colspan=\"2\" style=\"text-align:center\">\n  <a class=\"image\" href=\"/wiki/File:Toy_Story_3_poster.jpg\" title=\"All of the toys packed close together, holding up a large numeral '3', with Buzz, who is putting a friendly arm around Woody's shoulder, and Woody holding the top of the 3.\">\n   <img alt=\"All of the toys packed close together, holding up a large numeral '3', with Buzz, who is putting a friendly arm around Woody's shoulder, and Woody holding the top of the 3.\" class=\"thumbborder\" data-file-height=\"326\" data-file-width=\"220\" decoding=\"async\" height=\"326\" src=\"//upload.wikimedia.org/wikipedia/en/6/69/Toy_Story_3_poster.jpg\" width=\"220\"/>\n  </a>\n  <div style=\"font-size:95%;padding:0.35em 0.35em 0.25em;line-height:1.25em;\">\n   Theatrical release poster\n  </div>\n </td>\n</tr>\n\n<tr>\n <th scope=\"row\" style=\"white-space:nowrap;padding-right:0.65em;\">\n  Directed by\n </th>\n <td>\n  <a href=\"/wiki/Lee_Unkrich\" title=\"Lee Unkrich\">\n   Lee Unkrich\n  </a>\n </td>\n</tr>\n\n<tr>\n <th scope=\"row\" style=\"white-space:nowrap;padding-right:0.65em;\">\n  Produced by\n </th>\n <td>\n  <a href=\"/wiki/Darla_K._Anderson\" title=\"Darla K. Anderson\">\n   Darla K. Anderson\n  </a>\n </td>\n</tr>\n\n<tr>\n <th scope=\"row\" style=\"white-space:nowrap;padding-right:0.65em;\">\n  Screenplay by\n </th>\n <td>\n  <a href=\"/wiki/Michael_Arndt\" title=\"Michael Arndt\">\n   Michael Arndt\n  </a>\n </td>\n</tr>\n\n<tr>\n <th scope=\"row\" style=\"white-space:nowrap;padding-right:0.65em;\">\n  Story by\n </th>\n <td>\n  <div class=\"plainlist\">\n   <ul>\n    <li>\n     <a href=\"/wiki/John_Lasseter\" title=\"John Lasseter\">\n      John Lasseter\n     </a>\n    </li>\n    <li>\n     <a href=\"/wiki/Andrew_Stanton\" title=\"Andrew Stanton\">\n      Andrew Stanton\n     </a>\n    </li>\n    <li>\n     Lee Unkrich\n    </li>\n   </ul>\n  </div>\n </td>\n</tr>\n\n<tr>\n <th scope=\"row\" style=\"white-space:nowrap;padding-right:0.65em;\">\n  Starring\n </th>\n <td>\n  <div class=\"plainlist\">\n   <ul>\n    <li>\n     <a href=\"/wiki/Tom_Hanks\" title=\"Tom Hanks\">\n      Tom Hanks\n     </a>\n    </li>\n    <li>\n     <a href=\"/wiki/Tim_Allen\" title=\"Tim Allen\">\n      Tim Allen\n     </a>\n    </li>\n    <li>\n     <a href=\"/wiki/Joan_Cusack\" title=\"Joan Cusack\">\n      Joan Cusack\n     </a>\n    </li>\n    <li>\n     <a href=\"/wiki/Don_Rickles\" title=\"Don Rickles\">\n      Don Rickles\n     </a>\n    </li>\n    <li>\n     <a href=\"/wiki/Wallace_Shawn\" title=\"Wallace Shawn\">\n      Wallace Shawn\n     </a>\n    </li>\n    <li>\n     <a href=\"/wiki/John_Ratzenberger\" title=\"John Ratzenberger\">\n      John Ratzenberger\n     </a>\n    </li>\n    <li>\n     <a href=\"/wiki/Estelle_Harris\" title=\"Estelle Harris\">\n      Estelle Harris\n     </a>\n    </li>\n    <li>\n     <a href=\"/wiki/Blake_Clark\" title=\"Blake Clark\">\n      Blake Clark\n     </a>\n    </li>\n    <li>\n     <a href=\"/wiki/Jeff_Pidgeon\" title=\"Jeff Pidgeon\">\n      Jeff Pidgeon\n     </a>\n    </li>\n    <li>\n     <a href=\"/wiki/Ned_Beatty\" title=\"Ned Beatty\">\n      Ned Beatty\n     </a>\n    </li>\n    <li>\n     <a href=\"/wiki/Michael_Keaton\" title=\"Michael Keaton\">\n      Michael Keaton\n     </a>\n    </li>\n    <li>\n     <a href=\"/wiki/Jodi_Benson\" title=\"Jodi Benson\">\n      Jodi Benson\n     </a>\n    </li>\n    <li>\n     <a href=\"/wiki/John_Morris_(actor)\" title=\"John Morris (actor)\">\n      John Morris\n     </a>\n    </li>\n   </ul>\n  </div>\n </td>\n</tr>\n\n<tr>\n <th scope=\"row\" style=\"white-space:nowrap;padding-right:0.65em;\">\n  Music by\n </th>\n <td>\n  <a href=\"/wiki/Randy_Newman\" title=\"Randy Newman\">\n   Randy Newman\n  </a>\n </td>\n</tr>\n\n<tr>\n <th scope=\"row\" style=\"white-space:nowrap;padding-right:0.65em;\">\n  Cinematography\n </th>\n <td>\n  <div class=\"plainlist\">\n   <ul>\n    <li>\n     Jeremy Lasky\n    </li>\n    <li>\n     Kim White\n    </li>\n   </ul>\n  </div>\n </td>\n</tr>\n\n<tr>\n <th scope=\"row\" style=\"white-space:nowrap;padding-right:0.65em;\">\n  Edited by\n </th>\n <td>\n  <a href=\"/wiki/Ken_Schretzmann\" title=\"Ken Schretzmann\">\n   Ken Schretzmann\n  </a>\n </td>\n</tr>\n\n<tr>\n <th scope=\"row\" style=\"white-space:nowrap;padding-right:0.65em;\">\n  <div style=\"display:inline-block; padding:0.1em 0;line-height:1.2em;\">\n   Production\n   <br/>\n   company\n  </div>\n </th>\n <td>\n  <div style=\"vertical-align:middle;\">\n   <div class=\"plainlist\">\n    <ul>\n     <li>\n      <a href=\"/wiki/Walt_Disney_Pictures\" title=\"Walt Disney Pictures\">\n       Walt Disney Pictures\n      </a>\n     </li>\n     <li>\n      <a class=\"mw-redirect\" href=\"/wiki/Pixar_Animation_Studios\" title=\"Pixar Animation Studios\">\n       Pixar Animation Studios\n      </a>\n     </li>\n    </ul>\n   </div>\n  </div>\n </td>\n</tr>\n\n<tr>\n <th scope=\"row\" style=\"white-space:nowrap;padding-right:0.65em;\">\n  Distributed by\n </th>\n <td>\n  <a href=\"/wiki/Walt_Disney_Studios_Motion_Pictures\" title=\"Walt Disney Studios Motion Pictures\">\n   Walt Disney Studios\n   <br/>\n   Motion Pictures\n  </a>\n </td>\n</tr>\n\n<tr>\n <th scope=\"row\" style=\"white-space:nowrap;padding-right:0.65em;\">\n  <div style=\"display:inline-block; padding:0.1em 0;line-height:1.2em;white-space:normal;\">\n   Release date\n  </div>\n </th>\n <td>\n  <div class=\"plainlist\">\n   <ul>\n    <li>\n     June 12, 2010\n     <span style=\"display:none\">\n      (\n      <span class=\"bday dtstart published updated\">\n       2010-06-12\n      </span>\n      )\n     </span>\n     (\n     <a href=\"/wiki/Taormina_Film_Fest\" title=\"Taormina Film Fest\">\n      Taormina Film Fest\n     </a>\n     )\n    </li>\n    <li>\n     June 18, 2010\n     <span style=\"display:none\">\n      (\n      <span class=\"bday dtstart published updated\">\n       2010-06-18\n      </span>\n      )\n     </span>\n     (United States)\n    </li>\n   </ul>\n  </div>\n </td>\n</tr>\n\n<tr>\n <th scope=\"row\" style=\"white-space:nowrap;padding-right:0.65em;\">\n  <div style=\"display:inline-block; padding:0.1em 0;line-height:1.2em;white-space:normal;\">\n   Running time\n  </div>\n </th>\n <td>\n  103 minutes\n  <sup class=\"reference\" id=\"cite_ref-mojo1_1-0\">\n   <a href=\"#cite_note-mojo1-1\">\n    [1]\n   </a>\n  </sup>\n </td>\n</tr>\n\n<tr>\n <th scope=\"row\" style=\"white-space:nowrap;padding-right:0.65em;\">\n  Country\n </th>\n <td>\n  United States\n </td>\n</tr>\n\n<tr>\n <th scope=\"row\" style=\"white-space:nowrap;padding-right:0.65em;\">\n  Language\n </th>\n <td>\n  English\n </td>\n</tr>\n\n<tr>\n <th scope=\"row\" style=\"white-space:nowrap;padding-right:0.65em;\">\n  Budget\n </th>\n <td>\n  $200 million\n  <sup class=\"reference\" id=\"cite_ref-mojo1_1-1\">\n   <a href=\"#cite_note-mojo1-1\">\n    [1]\n   </a>\n  </sup>\n </td>\n</tr>\n\n<tr>\n <th scope=\"row\" style=\"white-space:nowrap;padding-right:0.65em;\">\n  Box office\n </th>\n <td>\n  $1.067 billion\n  <sup class=\"reference\" id=\"cite_ref-mojo1_1-2\">\n   <a href=\"#cite_note-mojo1-1\">\n    [1]\n   </a>\n  </sup>\n </td>\n</tr>\n"
     ]
    }
   ],
   "source": [
    "box = soup.find(class_=\"infobox vevent\")\n",
    "info_rows = box.find_all(\"tr\")\n",
    "for row in info_rows:\n",
    "    print(row.prettify())"
   ]
  },
  {
   "cell_type": "code",
   "execution_count": 100,
   "metadata": {},
   "outputs": [
    {
     "output_type": "execute_result",
     "data": {
      "text/plain": [
       "{'title': 'Toy Story 3',\n",
       " 'Directed by': 'Lee Unkrich',\n",
       " 'Produced by': 'Darla K. Anderson',\n",
       " 'Screenplay by': 'Michael Arndt',\n",
       " 'Story by': ['John Lasseter', 'Andrew Stanton', 'Lee Unkrich'],\n",
       " 'Starring': ['Tom Hanks',\n",
       "  'Tim Allen',\n",
       "  'Joan Cusack',\n",
       "  'Don Rickles',\n",
       "  'Wallace Shawn',\n",
       "  'John Ratzenberger',\n",
       "  'Estelle Harris',\n",
       "  'Blake Clark',\n",
       "  'Jeff Pidgeon',\n",
       "  'Ned Beatty',\n",
       "  'Michael Keaton',\n",
       "  'Jodi Benson',\n",
       "  'John Morris'],\n",
       " 'Music by': 'Randy Newman',\n",
       " 'Cinematography': ['Jeremy Lasky', 'Kim White'],\n",
       " 'Edited by': 'Ken Schretzmann',\n",
       " 'Production company': ['Walt Disney Pictures', 'Pixar Animation Studios'],\n",
       " 'Distributed by': 'Walt Disney StudiosMotion Pictures',\n",
       " 'Release date': ['June 12, 2010 (2010-06-12) (Taormina Film Fest)',\n",
       "  'June 18, 2010 (2010-06-18) (United States)'],\n",
       " 'Running time': '103 minutes[1]',\n",
       " 'Country': 'United States',\n",
       " 'Language': 'English',\n",
       " 'Budget': '$200 million[1]',\n",
       " 'Box office': '$1.067 billion[1]'}"
      ]
     },
     "metadata": {},
     "execution_count": 100
    }
   ],
   "source": [
    "def get_content_value(row_data):\n",
    "    if row_data.find(\"li\"):\n",
    "        return [li.get_text().replace(\"\\xa0\", \" \") for li in row_data.find_all(\"li\")]\n",
    "    else:\n",
    "        return row_data.get_text().replace(\"\\xa0\", \" \")\n",
    "\n",
    "# Insert empty dictionary\n",
    "movie_info = {}\n",
    "for index, row in enumerate(info_rows):\n",
    "    if index == 0:\n",
    "        movie_info['title'] = row.find('th').get_text()\n",
    "    elif index == 1:\n",
    "        continue\n",
    "    else:\n",
    "        content_key = row.find(\"th\").get_text(\" \", strip=True)\n",
    "        content_value = get_content_value(row.find('td'))\n",
    "        movie_info[content_key] = content_value\n",
    "\n",
    "movie_info"
   ]
  },
  {
   "cell_type": "code",
   "execution_count": 101,
   "metadata": {},
   "outputs": [],
   "source": [
    "# Cleanup\n"
   ]
  },
  {
   "cell_type": "code",
   "execution_count": null,
   "metadata": {},
   "outputs": [],
   "source": []
  }
 ],
 "metadata": {
  "kernelspec": {
   "name": "Python 3.7.9 64-bit",
   "display_name": "Python 3.7.9 64-bit",
   "metadata": {
    "interpreter": {
     "hash": "5d87b42201e74ac320bc00dce267d44f5f134edfec9046f67f672f289707ff6a"
    }
   }
  }
 },
 "nbformat": 4,
 "nbformat_minor": 4
}